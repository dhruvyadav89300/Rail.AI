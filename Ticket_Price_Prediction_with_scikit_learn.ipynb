{
  "cells": [
    {
      "cell_type": "code",
      "source": [],
      "metadata": {
        "id": "rZc8-euO8yvv"
      },
      "execution_count": 44,
      "outputs": []
    },
    {
      "metadata": {
        "trusted": true,
        "id": "56CwslHk7SNd"
      },
      "cell_type": "code",
      "source": [
        "from lightgbm import LGBMRegressor\n",
        "import numpy as np\n",
        "import matplotlib.pyplot as plt\n",
        "import pandas as pd\n",
        "import sklearn\n",
        "from sklearn.preprocessing import OneHotEncoder\n",
        "from sklearn.model_selection import train_test_split\n",
        "from sklearn.metrics import mean_squared_error\n",
        "from sklearn.linear_model import LinearRegression, RidgeCV\n",
        "from sklearn.svm import LinearSVR"
      ],
      "execution_count": 45,
      "outputs": []
    },
    {
      "metadata": {
        "trusted": true,
        "id": "Yei5zh6y7SNf",
        "outputId": "03a08411-0089-4ddc-f792-14d128dc504b",
        "colab": {
          "base_uri": "https://localhost:8080/",
          "height": 224
        }
      },
      "cell_type": "code",
      "source": [
        "df = pd.read_csv('../input/renfe.csv', index_col=0)\n",
        "\n",
        "print(df.shape)\n",
        "df.head()"
      ],
      "execution_count": 46,
      "outputs": [
        {
          "output_type": "stream",
          "name": "stdout",
          "text": [
            "(2579771, 9)\n"
          ]
        },
        {
          "output_type": "execute_result",
          "data": {
            "text/plain": [
              "           insert_date  origin destination           start_date  \\\n",
              "0  2019-04-19 05:31:43  MADRID     SEVILLA  2019-05-29 06:20:00   \n",
              "1  2019-04-19 05:31:43  MADRID     SEVILLA  2019-05-29 07:00:00   \n",
              "2  2019-04-19 05:31:43  MADRID     SEVILLA  2019-05-29 07:30:00   \n",
              "3  2019-04-19 05:31:43  MADRID     SEVILLA  2019-05-29 08:00:00   \n",
              "4  2019-04-19 05:31:43  MADRID     SEVILLA  2019-05-29 08:30:00   \n",
              "\n",
              "              end_date train_type  price train_class   fare  \n",
              "0  2019-05-29 09:16:00    AV City  38.55     Turista  Promo  \n",
              "1  2019-05-29 09:32:00        AVE  53.40     Turista  Promo  \n",
              "2  2019-05-29 09:51:00        AVE  47.30     Turista  Promo  \n",
              "3  2019-05-29 10:32:00        AVE  69.40  Preferente  Promo  \n",
              "4  2019-05-29 11:14:00      ALVIA    NaN     Turista  Promo  "
            ],
            "text/html": [
              "\n",
              "  <div id=\"df-cecaab8f-480c-48c1-9ca9-e07100477df0\" class=\"colab-df-container\">\n",
              "    <div>\n",
              "<style scoped>\n",
              "    .dataframe tbody tr th:only-of-type {\n",
              "        vertical-align: middle;\n",
              "    }\n",
              "\n",
              "    .dataframe tbody tr th {\n",
              "        vertical-align: top;\n",
              "    }\n",
              "\n",
              "    .dataframe thead th {\n",
              "        text-align: right;\n",
              "    }\n",
              "</style>\n",
              "<table border=\"1\" class=\"dataframe\">\n",
              "  <thead>\n",
              "    <tr style=\"text-align: right;\">\n",
              "      <th></th>\n",
              "      <th>insert_date</th>\n",
              "      <th>origin</th>\n",
              "      <th>destination</th>\n",
              "      <th>start_date</th>\n",
              "      <th>end_date</th>\n",
              "      <th>train_type</th>\n",
              "      <th>price</th>\n",
              "      <th>train_class</th>\n",
              "      <th>fare</th>\n",
              "    </tr>\n",
              "  </thead>\n",
              "  <tbody>\n",
              "    <tr>\n",
              "      <th>0</th>\n",
              "      <td>2019-04-19 05:31:43</td>\n",
              "      <td>MADRID</td>\n",
              "      <td>SEVILLA</td>\n",
              "      <td>2019-05-29 06:20:00</td>\n",
              "      <td>2019-05-29 09:16:00</td>\n",
              "      <td>AV City</td>\n",
              "      <td>38.55</td>\n",
              "      <td>Turista</td>\n",
              "      <td>Promo</td>\n",
              "    </tr>\n",
              "    <tr>\n",
              "      <th>1</th>\n",
              "      <td>2019-04-19 05:31:43</td>\n",
              "      <td>MADRID</td>\n",
              "      <td>SEVILLA</td>\n",
              "      <td>2019-05-29 07:00:00</td>\n",
              "      <td>2019-05-29 09:32:00</td>\n",
              "      <td>AVE</td>\n",
              "      <td>53.40</td>\n",
              "      <td>Turista</td>\n",
              "      <td>Promo</td>\n",
              "    </tr>\n",
              "    <tr>\n",
              "      <th>2</th>\n",
              "      <td>2019-04-19 05:31:43</td>\n",
              "      <td>MADRID</td>\n",
              "      <td>SEVILLA</td>\n",
              "      <td>2019-05-29 07:30:00</td>\n",
              "      <td>2019-05-29 09:51:00</td>\n",
              "      <td>AVE</td>\n",
              "      <td>47.30</td>\n",
              "      <td>Turista</td>\n",
              "      <td>Promo</td>\n",
              "    </tr>\n",
              "    <tr>\n",
              "      <th>3</th>\n",
              "      <td>2019-04-19 05:31:43</td>\n",
              "      <td>MADRID</td>\n",
              "      <td>SEVILLA</td>\n",
              "      <td>2019-05-29 08:00:00</td>\n",
              "      <td>2019-05-29 10:32:00</td>\n",
              "      <td>AVE</td>\n",
              "      <td>69.40</td>\n",
              "      <td>Preferente</td>\n",
              "      <td>Promo</td>\n",
              "    </tr>\n",
              "    <tr>\n",
              "      <th>4</th>\n",
              "      <td>2019-04-19 05:31:43</td>\n",
              "      <td>MADRID</td>\n",
              "      <td>SEVILLA</td>\n",
              "      <td>2019-05-29 08:30:00</td>\n",
              "      <td>2019-05-29 11:14:00</td>\n",
              "      <td>ALVIA</td>\n",
              "      <td>NaN</td>\n",
              "      <td>Turista</td>\n",
              "      <td>Promo</td>\n",
              "    </tr>\n",
              "  </tbody>\n",
              "</table>\n",
              "</div>\n",
              "    <div class=\"colab-df-buttons\">\n",
              "\n",
              "  <div class=\"colab-df-container\">\n",
              "    <button class=\"colab-df-convert\" onclick=\"convertToInteractive('df-cecaab8f-480c-48c1-9ca9-e07100477df0')\"\n",
              "            title=\"Convert this dataframe to an interactive table.\"\n",
              "            style=\"display:none;\">\n",
              "\n",
              "  <svg xmlns=\"http://www.w3.org/2000/svg\" height=\"24px\" viewBox=\"0 -960 960 960\">\n",
              "    <path d=\"M120-120v-720h720v720H120Zm60-500h600v-160H180v160Zm220 220h160v-160H400v160Zm0 220h160v-160H400v160ZM180-400h160v-160H180v160Zm440 0h160v-160H620v160ZM180-180h160v-160H180v160Zm440 0h160v-160H620v160Z\"/>\n",
              "  </svg>\n",
              "    </button>\n",
              "\n",
              "  <style>\n",
              "    .colab-df-container {\n",
              "      display:flex;\n",
              "      gap: 12px;\n",
              "    }\n",
              "\n",
              "    .colab-df-convert {\n",
              "      background-color: #E8F0FE;\n",
              "      border: none;\n",
              "      border-radius: 50%;\n",
              "      cursor: pointer;\n",
              "      display: none;\n",
              "      fill: #1967D2;\n",
              "      height: 32px;\n",
              "      padding: 0 0 0 0;\n",
              "      width: 32px;\n",
              "    }\n",
              "\n",
              "    .colab-df-convert:hover {\n",
              "      background-color: #E2EBFA;\n",
              "      box-shadow: 0px 1px 2px rgba(60, 64, 67, 0.3), 0px 1px 3px 1px rgba(60, 64, 67, 0.15);\n",
              "      fill: #174EA6;\n",
              "    }\n",
              "\n",
              "    .colab-df-buttons div {\n",
              "      margin-bottom: 4px;\n",
              "    }\n",
              "\n",
              "    [theme=dark] .colab-df-convert {\n",
              "      background-color: #3B4455;\n",
              "      fill: #D2E3FC;\n",
              "    }\n",
              "\n",
              "    [theme=dark] .colab-df-convert:hover {\n",
              "      background-color: #434B5C;\n",
              "      box-shadow: 0px 1px 3px 1px rgba(0, 0, 0, 0.15);\n",
              "      filter: drop-shadow(0px 1px 2px rgba(0, 0, 0, 0.3));\n",
              "      fill: #FFFFFF;\n",
              "    }\n",
              "  </style>\n",
              "\n",
              "    <script>\n",
              "      const buttonEl =\n",
              "        document.querySelector('#df-cecaab8f-480c-48c1-9ca9-e07100477df0 button.colab-df-convert');\n",
              "      buttonEl.style.display =\n",
              "        google.colab.kernel.accessAllowed ? 'block' : 'none';\n",
              "\n",
              "      async function convertToInteractive(key) {\n",
              "        const element = document.querySelector('#df-cecaab8f-480c-48c1-9ca9-e07100477df0');\n",
              "        const dataTable =\n",
              "          await google.colab.kernel.invokeFunction('convertToInteractive',\n",
              "                                                    [key], {});\n",
              "        if (!dataTable) return;\n",
              "\n",
              "        const docLinkHtml = 'Like what you see? Visit the ' +\n",
              "          '<a target=\"_blank\" href=https://colab.research.google.com/notebooks/data_table.ipynb>data table notebook</a>'\n",
              "          + ' to learn more about interactive tables.';\n",
              "        element.innerHTML = '';\n",
              "        dataTable['output_type'] = 'display_data';\n",
              "        await google.colab.output.renderOutput(dataTable, element);\n",
              "        const docLink = document.createElement('div');\n",
              "        docLink.innerHTML = docLinkHtml;\n",
              "        element.appendChild(docLink);\n",
              "      }\n",
              "    </script>\n",
              "  </div>\n",
              "\n",
              "\n",
              "<div id=\"df-c1e9f4ef-9209-40a9-9d58-0253af437e27\">\n",
              "  <button class=\"colab-df-quickchart\" onclick=\"quickchart('df-c1e9f4ef-9209-40a9-9d58-0253af437e27')\"\n",
              "            title=\"Suggest charts\"\n",
              "            style=\"display:none;\">\n",
              "\n",
              "<svg xmlns=\"http://www.w3.org/2000/svg\" height=\"24px\"viewBox=\"0 0 24 24\"\n",
              "     width=\"24px\">\n",
              "    <g>\n",
              "        <path d=\"M19 3H5c-1.1 0-2 .9-2 2v14c0 1.1.9 2 2 2h14c1.1 0 2-.9 2-2V5c0-1.1-.9-2-2-2zM9 17H7v-7h2v7zm4 0h-2V7h2v10zm4 0h-2v-4h2v4z\"/>\n",
              "    </g>\n",
              "</svg>\n",
              "  </button>\n",
              "\n",
              "<style>\n",
              "  .colab-df-quickchart {\n",
              "      --bg-color: #E8F0FE;\n",
              "      --fill-color: #1967D2;\n",
              "      --hover-bg-color: #E2EBFA;\n",
              "      --hover-fill-color: #174EA6;\n",
              "      --disabled-fill-color: #AAA;\n",
              "      --disabled-bg-color: #DDD;\n",
              "  }\n",
              "\n",
              "  [theme=dark] .colab-df-quickchart {\n",
              "      --bg-color: #3B4455;\n",
              "      --fill-color: #D2E3FC;\n",
              "      --hover-bg-color: #434B5C;\n",
              "      --hover-fill-color: #FFFFFF;\n",
              "      --disabled-bg-color: #3B4455;\n",
              "      --disabled-fill-color: #666;\n",
              "  }\n",
              "\n",
              "  .colab-df-quickchart {\n",
              "    background-color: var(--bg-color);\n",
              "    border: none;\n",
              "    border-radius: 50%;\n",
              "    cursor: pointer;\n",
              "    display: none;\n",
              "    fill: var(--fill-color);\n",
              "    height: 32px;\n",
              "    padding: 0;\n",
              "    width: 32px;\n",
              "  }\n",
              "\n",
              "  .colab-df-quickchart:hover {\n",
              "    background-color: var(--hover-bg-color);\n",
              "    box-shadow: 0 1px 2px rgba(60, 64, 67, 0.3), 0 1px 3px 1px rgba(60, 64, 67, 0.15);\n",
              "    fill: var(--button-hover-fill-color);\n",
              "  }\n",
              "\n",
              "  .colab-df-quickchart-complete:disabled,\n",
              "  .colab-df-quickchart-complete:disabled:hover {\n",
              "    background-color: var(--disabled-bg-color);\n",
              "    fill: var(--disabled-fill-color);\n",
              "    box-shadow: none;\n",
              "  }\n",
              "\n",
              "  .colab-df-spinner {\n",
              "    border: 2px solid var(--fill-color);\n",
              "    border-color: transparent;\n",
              "    border-bottom-color: var(--fill-color);\n",
              "    animation:\n",
              "      spin 1s steps(1) infinite;\n",
              "  }\n",
              "\n",
              "  @keyframes spin {\n",
              "    0% {\n",
              "      border-color: transparent;\n",
              "      border-bottom-color: var(--fill-color);\n",
              "      border-left-color: var(--fill-color);\n",
              "    }\n",
              "    20% {\n",
              "      border-color: transparent;\n",
              "      border-left-color: var(--fill-color);\n",
              "      border-top-color: var(--fill-color);\n",
              "    }\n",
              "    30% {\n",
              "      border-color: transparent;\n",
              "      border-left-color: var(--fill-color);\n",
              "      border-top-color: var(--fill-color);\n",
              "      border-right-color: var(--fill-color);\n",
              "    }\n",
              "    40% {\n",
              "      border-color: transparent;\n",
              "      border-right-color: var(--fill-color);\n",
              "      border-top-color: var(--fill-color);\n",
              "    }\n",
              "    60% {\n",
              "      border-color: transparent;\n",
              "      border-right-color: var(--fill-color);\n",
              "    }\n",
              "    80% {\n",
              "      border-color: transparent;\n",
              "      border-right-color: var(--fill-color);\n",
              "      border-bottom-color: var(--fill-color);\n",
              "    }\n",
              "    90% {\n",
              "      border-color: transparent;\n",
              "      border-bottom-color: var(--fill-color);\n",
              "    }\n",
              "  }\n",
              "</style>\n",
              "\n",
              "  <script>\n",
              "    async function quickchart(key) {\n",
              "      const quickchartButtonEl =\n",
              "        document.querySelector('#' + key + ' button');\n",
              "      quickchartButtonEl.disabled = true;  // To prevent multiple clicks.\n",
              "      quickchartButtonEl.classList.add('colab-df-spinner');\n",
              "      try {\n",
              "        const charts = await google.colab.kernel.invokeFunction(\n",
              "            'suggestCharts', [key], {});\n",
              "      } catch (error) {\n",
              "        console.error('Error during call to suggestCharts:', error);\n",
              "      }\n",
              "      quickchartButtonEl.classList.remove('colab-df-spinner');\n",
              "      quickchartButtonEl.classList.add('colab-df-quickchart-complete');\n",
              "    }\n",
              "    (() => {\n",
              "      let quickchartButtonEl =\n",
              "        document.querySelector('#df-c1e9f4ef-9209-40a9-9d58-0253af437e27 button');\n",
              "      quickchartButtonEl.style.display =\n",
              "        google.colab.kernel.accessAllowed ? 'block' : 'none';\n",
              "    })();\n",
              "  </script>\n",
              "</div>\n",
              "\n",
              "    </div>\n",
              "  </div>\n"
            ],
            "application/vnd.google.colaboratory.intrinsic+json": {
              "type": "dataframe",
              "variable_name": "df"
            }
          },
          "metadata": {},
          "execution_count": 46
        }
      ]
    },
    {
      "metadata": {
        "trusted": true,
        "id": "0Pjqz2Z97SNh"
      },
      "cell_type": "code",
      "source": [
        "for col in ['insert_date']:\n",
        "    date_col = pd.to_datetime(df[col])\n",
        "    df[col + '_hour'] = date_col.dt.hour\n",
        "    df[col + '_minute'] = date_col.dt.minute\n",
        "    df[col + '_second'] = date_col.dt.second\n",
        "    df[col + '_weekday'] = date_col.dt.day_name\n",
        "    df[col + '_day'] = date_col.dt.day\n",
        "    df[col + '_month'] = date_col.dt.month\n",
        "    df[col + '_year'] = date_col.dt.year\n",
        "\n",
        "    del df[col]"
      ],
      "execution_count": 47,
      "outputs": []
    },
    {
      "cell_type": "code",
      "source": [
        "for col in ['start_date']:\n",
        "    date_col = pd.to_datetime(df[col])\n",
        "    df[col + '_hour'] = date_col.dt.hour\n",
        "    df[col + '_minute'] = date_col.dt.minute\n",
        "    df[col + '_second'] = date_col.dt.second\n",
        "    df[col + '_weekday'] = date_col.dt.day_name\n",
        "    df[col + '_day'] = date_col.dt.day\n",
        "    df[col + '_month'] = date_col.dt.month\n",
        "    df[col + '_year'] = date_col.dt.year\n",
        "\n",
        "    del df[col]"
      ],
      "metadata": {
        "id": "63c8z6V4ij9h"
      },
      "execution_count": 56,
      "outputs": []
    },
    {
      "cell_type": "code",
      "source": [
        "for col in ['end_date']:\n",
        "    date_col = pd.to_datetime(df[col])\n",
        "    df[col + '_hour'] = date_col.dt.hour\n",
        "    df[col + '_minute'] = date_col.dt.minute\n",
        "    df[col + '_second'] = date_col.dt.second\n",
        "    df[col + '_weekday'] = date_col.dt.day_name\n",
        "    df[col + '_day'] = date_col.dt.day\n",
        "    df[col + '_month'] = date_col.dt.month\n",
        "    df[col + '_year'] = date_col.dt.year\n",
        "\n",
        "    del df[col]"
      ],
      "metadata": {
        "id": "NtwE6Ap1iygP"
      },
      "execution_count": 57,
      "outputs": []
    },
    {
      "cell_type": "code",
      "source": [
        "df.head()"
      ],
      "metadata": {
        "id": "XtheuyNejjzJ"
      },
      "execution_count": null,
      "outputs": []
    },
    {
      "metadata": {
        "trusted": true,
        "id": "5IMeuuZZ7SNk",
        "outputId": "72954097-542d-4f6b-da82-26d543a9d716",
        "colab": {
          "base_uri": "https://localhost:8080/"
        }
      },
      "cell_type": "code",
      "source": [
        "df.isnull().sum()"
      ],
      "execution_count": 49,
      "outputs": [
        {
          "output_type": "execute_result",
          "data": {
            "text/plain": [
              "origin                      0\n",
              "destination                 0\n",
              "start_date                  0\n",
              "end_date                    0\n",
              "train_type                  0\n",
              "price                  310681\n",
              "train_class              9664\n",
              "fare                     9664\n",
              "insert_date_hour            0\n",
              "insert_date_minute          0\n",
              "insert_date_second          0\n",
              "insert_date_weekday         0\n",
              "insert_date_day             0\n",
              "insert_date_month           0\n",
              "insert_date_year            0\n",
              "dtype: int64"
            ]
          },
          "metadata": {},
          "execution_count": 49
        }
      ]
    },
    {
      "metadata": {
        "trusted": true,
        "id": "JHnvxcsT7SNl"
      },
      "cell_type": "code",
      "source": [
        "df.dropna(inplace=True)"
      ],
      "execution_count": 50,
      "outputs": []
    },
    {
      "metadata": {
        "trusted": true,
        "id": "ZLjFccAK7SNm",
        "outputId": "309142ff-75de-43ba-f8ba-49b29c300c4a",
        "colab": {
          "base_uri": "https://localhost:8080/"
        }
      },
      "cell_type": "code",
      "source": [
        "for col in df.columns:\n",
        "    print(col, \":\", df[col].unique().shape[0])"
      ],
      "execution_count": 51,
      "outputs": [
        {
          "output_type": "stream",
          "name": "stdout",
          "text": [
            "origin : 5\n",
            "destination : 5\n",
            "start_date : 7729\n",
            "end_date : 10076\n",
            "train_type : 15\n",
            "price : 225\n",
            "train_class : 6\n",
            "fare : 7\n",
            "insert_date_hour : 24\n",
            "insert_date_minute : 60\n",
            "insert_date_second : 60\n",
            "insert_date_weekday : 1\n",
            "insert_date_day : 29\n",
            "insert_date_month : 2\n",
            "insert_date_year : 1\n"
          ]
        }
      ]
    },
    {
      "metadata": {
        "id": "9cdXHJEI7SNm"
      },
      "cell_type": "markdown",
      "source": [
        "We see that all the data is categorical in this case. We can one-hot-encode them afterwards.\n",
        "\n",
        "Also, it seems like there is only one year in the dataset. We can safely drop that column."
      ]
    },
    {
      "metadata": {
        "trusted": true,
        "id": "1zH9tWQ37SNn"
      },
      "cell_type": "code",
      "source": [
        "columns_to_drop = [col for col in df.columns if df[col].unique().shape[0] == 1]\n",
        "df.drop(columns=columns_to_drop, inplace=True)"
      ],
      "execution_count": 52,
      "outputs": []
    },
    {
      "metadata": {
        "trusted": true,
        "id": "zEOi7rKI7SNn",
        "outputId": "fd871e1d-008a-4f3f-e2dc-c8b3862ee967",
        "colab": {
          "base_uri": "https://localhost:8080/",
          "height": 206
        }
      },
      "cell_type": "code",
      "source": [
        "df.head()"
      ],
      "execution_count": 53,
      "outputs": [
        {
          "output_type": "execute_result",
          "data": {
            "text/plain": [
              "   origin destination           start_date             end_date train_type  \\\n",
              "0  MADRID     SEVILLA  2019-05-29 06:20:00  2019-05-29 09:16:00    AV City   \n",
              "1  MADRID     SEVILLA  2019-05-29 07:00:00  2019-05-29 09:32:00        AVE   \n",
              "2  MADRID     SEVILLA  2019-05-29 07:30:00  2019-05-29 09:51:00        AVE   \n",
              "3  MADRID     SEVILLA  2019-05-29 08:00:00  2019-05-29 10:32:00        AVE   \n",
              "5  MADRID     SEVILLA  2019-05-29 09:00:00  2019-05-29 11:38:00        AVE   \n",
              "\n",
              "   price train_class   fare  insert_date_hour  insert_date_minute  \\\n",
              "0  38.55     Turista  Promo                 5                  31   \n",
              "1  53.40     Turista  Promo                 5                  31   \n",
              "2  47.30     Turista  Promo                 5                  31   \n",
              "3  69.40  Preferente  Promo                 5                  31   \n",
              "5  60.30     Turista  Promo                 5                  31   \n",
              "\n",
              "   insert_date_second  insert_date_day  insert_date_month  \n",
              "0                  43               19                  4  \n",
              "1                  43               19                  4  \n",
              "2                  43               19                  4  \n",
              "3                  43               19                  4  \n",
              "5                  43               19                  4  "
            ],
            "text/html": [
              "\n",
              "  <div id=\"df-5e22c1fe-c562-427f-aedb-8ca911beec93\" class=\"colab-df-container\">\n",
              "    <div>\n",
              "<style scoped>\n",
              "    .dataframe tbody tr th:only-of-type {\n",
              "        vertical-align: middle;\n",
              "    }\n",
              "\n",
              "    .dataframe tbody tr th {\n",
              "        vertical-align: top;\n",
              "    }\n",
              "\n",
              "    .dataframe thead th {\n",
              "        text-align: right;\n",
              "    }\n",
              "</style>\n",
              "<table border=\"1\" class=\"dataframe\">\n",
              "  <thead>\n",
              "    <tr style=\"text-align: right;\">\n",
              "      <th></th>\n",
              "      <th>origin</th>\n",
              "      <th>destination</th>\n",
              "      <th>start_date</th>\n",
              "      <th>end_date</th>\n",
              "      <th>train_type</th>\n",
              "      <th>price</th>\n",
              "      <th>train_class</th>\n",
              "      <th>fare</th>\n",
              "      <th>insert_date_hour</th>\n",
              "      <th>insert_date_minute</th>\n",
              "      <th>insert_date_second</th>\n",
              "      <th>insert_date_day</th>\n",
              "      <th>insert_date_month</th>\n",
              "    </tr>\n",
              "  </thead>\n",
              "  <tbody>\n",
              "    <tr>\n",
              "      <th>0</th>\n",
              "      <td>MADRID</td>\n",
              "      <td>SEVILLA</td>\n",
              "      <td>2019-05-29 06:20:00</td>\n",
              "      <td>2019-05-29 09:16:00</td>\n",
              "      <td>AV City</td>\n",
              "      <td>38.55</td>\n",
              "      <td>Turista</td>\n",
              "      <td>Promo</td>\n",
              "      <td>5</td>\n",
              "      <td>31</td>\n",
              "      <td>43</td>\n",
              "      <td>19</td>\n",
              "      <td>4</td>\n",
              "    </tr>\n",
              "    <tr>\n",
              "      <th>1</th>\n",
              "      <td>MADRID</td>\n",
              "      <td>SEVILLA</td>\n",
              "      <td>2019-05-29 07:00:00</td>\n",
              "      <td>2019-05-29 09:32:00</td>\n",
              "      <td>AVE</td>\n",
              "      <td>53.40</td>\n",
              "      <td>Turista</td>\n",
              "      <td>Promo</td>\n",
              "      <td>5</td>\n",
              "      <td>31</td>\n",
              "      <td>43</td>\n",
              "      <td>19</td>\n",
              "      <td>4</td>\n",
              "    </tr>\n",
              "    <tr>\n",
              "      <th>2</th>\n",
              "      <td>MADRID</td>\n",
              "      <td>SEVILLA</td>\n",
              "      <td>2019-05-29 07:30:00</td>\n",
              "      <td>2019-05-29 09:51:00</td>\n",
              "      <td>AVE</td>\n",
              "      <td>47.30</td>\n",
              "      <td>Turista</td>\n",
              "      <td>Promo</td>\n",
              "      <td>5</td>\n",
              "      <td>31</td>\n",
              "      <td>43</td>\n",
              "      <td>19</td>\n",
              "      <td>4</td>\n",
              "    </tr>\n",
              "    <tr>\n",
              "      <th>3</th>\n",
              "      <td>MADRID</td>\n",
              "      <td>SEVILLA</td>\n",
              "      <td>2019-05-29 08:00:00</td>\n",
              "      <td>2019-05-29 10:32:00</td>\n",
              "      <td>AVE</td>\n",
              "      <td>69.40</td>\n",
              "      <td>Preferente</td>\n",
              "      <td>Promo</td>\n",
              "      <td>5</td>\n",
              "      <td>31</td>\n",
              "      <td>43</td>\n",
              "      <td>19</td>\n",
              "      <td>4</td>\n",
              "    </tr>\n",
              "    <tr>\n",
              "      <th>5</th>\n",
              "      <td>MADRID</td>\n",
              "      <td>SEVILLA</td>\n",
              "      <td>2019-05-29 09:00:00</td>\n",
              "      <td>2019-05-29 11:38:00</td>\n",
              "      <td>AVE</td>\n",
              "      <td>60.30</td>\n",
              "      <td>Turista</td>\n",
              "      <td>Promo</td>\n",
              "      <td>5</td>\n",
              "      <td>31</td>\n",
              "      <td>43</td>\n",
              "      <td>19</td>\n",
              "      <td>4</td>\n",
              "    </tr>\n",
              "  </tbody>\n",
              "</table>\n",
              "</div>\n",
              "    <div class=\"colab-df-buttons\">\n",
              "\n",
              "  <div class=\"colab-df-container\">\n",
              "    <button class=\"colab-df-convert\" onclick=\"convertToInteractive('df-5e22c1fe-c562-427f-aedb-8ca911beec93')\"\n",
              "            title=\"Convert this dataframe to an interactive table.\"\n",
              "            style=\"display:none;\">\n",
              "\n",
              "  <svg xmlns=\"http://www.w3.org/2000/svg\" height=\"24px\" viewBox=\"0 -960 960 960\">\n",
              "    <path d=\"M120-120v-720h720v720H120Zm60-500h600v-160H180v160Zm220 220h160v-160H400v160Zm0 220h160v-160H400v160ZM180-400h160v-160H180v160Zm440 0h160v-160H620v160ZM180-180h160v-160H180v160Zm440 0h160v-160H620v160Z\"/>\n",
              "  </svg>\n",
              "    </button>\n",
              "\n",
              "  <style>\n",
              "    .colab-df-container {\n",
              "      display:flex;\n",
              "      gap: 12px;\n",
              "    }\n",
              "\n",
              "    .colab-df-convert {\n",
              "      background-color: #E8F0FE;\n",
              "      border: none;\n",
              "      border-radius: 50%;\n",
              "      cursor: pointer;\n",
              "      display: none;\n",
              "      fill: #1967D2;\n",
              "      height: 32px;\n",
              "      padding: 0 0 0 0;\n",
              "      width: 32px;\n",
              "    }\n",
              "\n",
              "    .colab-df-convert:hover {\n",
              "      background-color: #E2EBFA;\n",
              "      box-shadow: 0px 1px 2px rgba(60, 64, 67, 0.3), 0px 1px 3px 1px rgba(60, 64, 67, 0.15);\n",
              "      fill: #174EA6;\n",
              "    }\n",
              "\n",
              "    .colab-df-buttons div {\n",
              "      margin-bottom: 4px;\n",
              "    }\n",
              "\n",
              "    [theme=dark] .colab-df-convert {\n",
              "      background-color: #3B4455;\n",
              "      fill: #D2E3FC;\n",
              "    }\n",
              "\n",
              "    [theme=dark] .colab-df-convert:hover {\n",
              "      background-color: #434B5C;\n",
              "      box-shadow: 0px 1px 3px 1px rgba(0, 0, 0, 0.15);\n",
              "      filter: drop-shadow(0px 1px 2px rgba(0, 0, 0, 0.3));\n",
              "      fill: #FFFFFF;\n",
              "    }\n",
              "  </style>\n",
              "\n",
              "    <script>\n",
              "      const buttonEl =\n",
              "        document.querySelector('#df-5e22c1fe-c562-427f-aedb-8ca911beec93 button.colab-df-convert');\n",
              "      buttonEl.style.display =\n",
              "        google.colab.kernel.accessAllowed ? 'block' : 'none';\n",
              "\n",
              "      async function convertToInteractive(key) {\n",
              "        const element = document.querySelector('#df-5e22c1fe-c562-427f-aedb-8ca911beec93');\n",
              "        const dataTable =\n",
              "          await google.colab.kernel.invokeFunction('convertToInteractive',\n",
              "                                                    [key], {});\n",
              "        if (!dataTable) return;\n",
              "\n",
              "        const docLinkHtml = 'Like what you see? Visit the ' +\n",
              "          '<a target=\"_blank\" href=https://colab.research.google.com/notebooks/data_table.ipynb>data table notebook</a>'\n",
              "          + ' to learn more about interactive tables.';\n",
              "        element.innerHTML = '';\n",
              "        dataTable['output_type'] = 'display_data';\n",
              "        await google.colab.output.renderOutput(dataTable, element);\n",
              "        const docLink = document.createElement('div');\n",
              "        docLink.innerHTML = docLinkHtml;\n",
              "        element.appendChild(docLink);\n",
              "      }\n",
              "    </script>\n",
              "  </div>\n",
              "\n",
              "\n",
              "<div id=\"df-ecedbb20-ae38-49a6-9b82-0330f701e620\">\n",
              "  <button class=\"colab-df-quickchart\" onclick=\"quickchart('df-ecedbb20-ae38-49a6-9b82-0330f701e620')\"\n",
              "            title=\"Suggest charts\"\n",
              "            style=\"display:none;\">\n",
              "\n",
              "<svg xmlns=\"http://www.w3.org/2000/svg\" height=\"24px\"viewBox=\"0 0 24 24\"\n",
              "     width=\"24px\">\n",
              "    <g>\n",
              "        <path d=\"M19 3H5c-1.1 0-2 .9-2 2v14c0 1.1.9 2 2 2h14c1.1 0 2-.9 2-2V5c0-1.1-.9-2-2-2zM9 17H7v-7h2v7zm4 0h-2V7h2v10zm4 0h-2v-4h2v4z\"/>\n",
              "    </g>\n",
              "</svg>\n",
              "  </button>\n",
              "\n",
              "<style>\n",
              "  .colab-df-quickchart {\n",
              "      --bg-color: #E8F0FE;\n",
              "      --fill-color: #1967D2;\n",
              "      --hover-bg-color: #E2EBFA;\n",
              "      --hover-fill-color: #174EA6;\n",
              "      --disabled-fill-color: #AAA;\n",
              "      --disabled-bg-color: #DDD;\n",
              "  }\n",
              "\n",
              "  [theme=dark] .colab-df-quickchart {\n",
              "      --bg-color: #3B4455;\n",
              "      --fill-color: #D2E3FC;\n",
              "      --hover-bg-color: #434B5C;\n",
              "      --hover-fill-color: #FFFFFF;\n",
              "      --disabled-bg-color: #3B4455;\n",
              "      --disabled-fill-color: #666;\n",
              "  }\n",
              "\n",
              "  .colab-df-quickchart {\n",
              "    background-color: var(--bg-color);\n",
              "    border: none;\n",
              "    border-radius: 50%;\n",
              "    cursor: pointer;\n",
              "    display: none;\n",
              "    fill: var(--fill-color);\n",
              "    height: 32px;\n",
              "    padding: 0;\n",
              "    width: 32px;\n",
              "  }\n",
              "\n",
              "  .colab-df-quickchart:hover {\n",
              "    background-color: var(--hover-bg-color);\n",
              "    box-shadow: 0 1px 2px rgba(60, 64, 67, 0.3), 0 1px 3px 1px rgba(60, 64, 67, 0.15);\n",
              "    fill: var(--button-hover-fill-color);\n",
              "  }\n",
              "\n",
              "  .colab-df-quickchart-complete:disabled,\n",
              "  .colab-df-quickchart-complete:disabled:hover {\n",
              "    background-color: var(--disabled-bg-color);\n",
              "    fill: var(--disabled-fill-color);\n",
              "    box-shadow: none;\n",
              "  }\n",
              "\n",
              "  .colab-df-spinner {\n",
              "    border: 2px solid var(--fill-color);\n",
              "    border-color: transparent;\n",
              "    border-bottom-color: var(--fill-color);\n",
              "    animation:\n",
              "      spin 1s steps(1) infinite;\n",
              "  }\n",
              "\n",
              "  @keyframes spin {\n",
              "    0% {\n",
              "      border-color: transparent;\n",
              "      border-bottom-color: var(--fill-color);\n",
              "      border-left-color: var(--fill-color);\n",
              "    }\n",
              "    20% {\n",
              "      border-color: transparent;\n",
              "      border-left-color: var(--fill-color);\n",
              "      border-top-color: var(--fill-color);\n",
              "    }\n",
              "    30% {\n",
              "      border-color: transparent;\n",
              "      border-left-color: var(--fill-color);\n",
              "      border-top-color: var(--fill-color);\n",
              "      border-right-color: var(--fill-color);\n",
              "    }\n",
              "    40% {\n",
              "      border-color: transparent;\n",
              "      border-right-color: var(--fill-color);\n",
              "      border-top-color: var(--fill-color);\n",
              "    }\n",
              "    60% {\n",
              "      border-color: transparent;\n",
              "      border-right-color: var(--fill-color);\n",
              "    }\n",
              "    80% {\n",
              "      border-color: transparent;\n",
              "      border-right-color: var(--fill-color);\n",
              "      border-bottom-color: var(--fill-color);\n",
              "    }\n",
              "    90% {\n",
              "      border-color: transparent;\n",
              "      border-bottom-color: var(--fill-color);\n",
              "    }\n",
              "  }\n",
              "</style>\n",
              "\n",
              "  <script>\n",
              "    async function quickchart(key) {\n",
              "      const quickchartButtonEl =\n",
              "        document.querySelector('#' + key + ' button');\n",
              "      quickchartButtonEl.disabled = true;  // To prevent multiple clicks.\n",
              "      quickchartButtonEl.classList.add('colab-df-spinner');\n",
              "      try {\n",
              "        const charts = await google.colab.kernel.invokeFunction(\n",
              "            'suggestCharts', [key], {});\n",
              "      } catch (error) {\n",
              "        console.error('Error during call to suggestCharts:', error);\n",
              "      }\n",
              "      quickchartButtonEl.classList.remove('colab-df-spinner');\n",
              "      quickchartButtonEl.classList.add('colab-df-quickchart-complete');\n",
              "    }\n",
              "    (() => {\n",
              "      let quickchartButtonEl =\n",
              "        document.querySelector('#df-ecedbb20-ae38-49a6-9b82-0330f701e620 button');\n",
              "      quickchartButtonEl.style.display =\n",
              "        google.colab.kernel.accessAllowed ? 'block' : 'none';\n",
              "    })();\n",
              "  </script>\n",
              "</div>\n",
              "\n",
              "    </div>\n",
              "  </div>\n"
            ],
            "application/vnd.google.colaboratory.intrinsic+json": {
              "type": "dataframe",
              "variable_name": "df"
            }
          },
          "metadata": {},
          "execution_count": 53
        }
      ]
    },
    {
      "metadata": {
        "trusted": true,
        "id": "A6EgyHyd7SNo",
        "outputId": "b7f08ce1-575d-41be-d25f-d6d4f0bff41c",
        "colab": {
          "base_uri": "https://localhost:8080/",
          "height": 293
        }
      },
      "cell_type": "code",
      "source": [
        "corr = df.corr()\n",
        "corr.style.background_gradient(cmap='coolwarm')"
      ],
      "execution_count": 54,
      "outputs": [
        {
          "output_type": "stream",
          "name": "stderr",
          "text": [
            "<ipython-input-54-935c2e534e54>:1: FutureWarning: The default value of numeric_only in DataFrame.corr is deprecated. In a future version, it will default to False. Select only valid columns or specify the value of numeric_only to silence this warning.\n",
            "  corr = df.corr()\n"
          ]
        },
        {
          "output_type": "execute_result",
          "data": {
            "text/plain": [
              "<pandas.io.formats.style.Styler at 0x7d5ea34c8b80>"
            ],
            "text/html": [
              "<style type=\"text/css\">\n",
              "#T_3ffe9_row0_col0, #T_3ffe9_row1_col1, #T_3ffe9_row2_col2, #T_3ffe9_row3_col3, #T_3ffe9_row4_col4, #T_3ffe9_row5_col5 {\n",
              "  background-color: #b40426;\n",
              "  color: #f1f1f1;\n",
              "}\n",
              "#T_3ffe9_row0_col1, #T_3ffe9_row1_col0, #T_3ffe9_row1_col3, #T_3ffe9_row3_col1, #T_3ffe9_row4_col3, #T_3ffe9_row5_col1 {\n",
              "  background-color: #4055c8;\n",
              "  color: #f1f1f1;\n",
              "}\n",
              "#T_3ffe9_row0_col2, #T_3ffe9_row2_col0, #T_3ffe9_row2_col3, #T_3ffe9_row3_col2, #T_3ffe9_row4_col0, #T_3ffe9_row4_col1, #T_3ffe9_row4_col5, #T_3ffe9_row5_col4 {\n",
              "  background-color: #3b4cc0;\n",
              "  color: #f1f1f1;\n",
              "}\n",
              "#T_3ffe9_row0_col3, #T_3ffe9_row3_col0, #T_3ffe9_row5_col3 {\n",
              "  background-color: #4257c9;\n",
              "  color: #f1f1f1;\n",
              "}\n",
              "#T_3ffe9_row0_col4 {\n",
              "  background-color: #cad8ef;\n",
              "  color: #000000;\n",
              "}\n",
              "#T_3ffe9_row0_col5 {\n",
              "  background-color: #d2dbe8;\n",
              "  color: #000000;\n",
              "}\n",
              "#T_3ffe9_row1_col2, #T_3ffe9_row2_col1 {\n",
              "  background-color: #3d50c3;\n",
              "  color: #f1f1f1;\n",
              "}\n",
              "#T_3ffe9_row1_col4 {\n",
              "  background-color: #cbd8ee;\n",
              "  color: #000000;\n",
              "}\n",
              "#T_3ffe9_row1_col5, #T_3ffe9_row3_col4 {\n",
              "  background-color: #cdd9ec;\n",
              "  color: #000000;\n",
              "}\n",
              "#T_3ffe9_row2_col4 {\n",
              "  background-color: #cfdaea;\n",
              "  color: #000000;\n",
              "}\n",
              "#T_3ffe9_row2_col5 {\n",
              "  background-color: #d5dbe5;\n",
              "  color: #000000;\n",
              "}\n",
              "#T_3ffe9_row3_col5 {\n",
              "  background-color: #cedaeb;\n",
              "  color: #000000;\n",
              "}\n",
              "#T_3ffe9_row4_col2 {\n",
              "  background-color: #445acc;\n",
              "  color: #f1f1f1;\n",
              "}\n",
              "#T_3ffe9_row5_col0 {\n",
              "  background-color: #4961d2;\n",
              "  color: #f1f1f1;\n",
              "}\n",
              "#T_3ffe9_row5_col2 {\n",
              "  background-color: #4f69d9;\n",
              "  color: #f1f1f1;\n",
              "}\n",
              "</style>\n",
              "<table id=\"T_3ffe9\" class=\"dataframe\">\n",
              "  <thead>\n",
              "    <tr>\n",
              "      <th class=\"blank level0\" >&nbsp;</th>\n",
              "      <th id=\"T_3ffe9_level0_col0\" class=\"col_heading level0 col0\" >price</th>\n",
              "      <th id=\"T_3ffe9_level0_col1\" class=\"col_heading level0 col1\" >insert_date_hour</th>\n",
              "      <th id=\"T_3ffe9_level0_col2\" class=\"col_heading level0 col2\" >insert_date_minute</th>\n",
              "      <th id=\"T_3ffe9_level0_col3\" class=\"col_heading level0 col3\" >insert_date_second</th>\n",
              "      <th id=\"T_3ffe9_level0_col4\" class=\"col_heading level0 col4\" >insert_date_day</th>\n",
              "      <th id=\"T_3ffe9_level0_col5\" class=\"col_heading level0 col5\" >insert_date_month</th>\n",
              "    </tr>\n",
              "  </thead>\n",
              "  <tbody>\n",
              "    <tr>\n",
              "      <th id=\"T_3ffe9_level0_row0\" class=\"row_heading level0 row0\" >price</th>\n",
              "      <td id=\"T_3ffe9_row0_col0\" class=\"data row0 col0\" >1.000000</td>\n",
              "      <td id=\"T_3ffe9_row0_col1\" class=\"data row0 col1\" >-0.000234</td>\n",
              "      <td id=\"T_3ffe9_row0_col2\" class=\"data row0 col2\" >-0.020607</td>\n",
              "      <td id=\"T_3ffe9_row0_col3\" class=\"data row0 col3\" >0.003265</td>\n",
              "      <td id=\"T_3ffe9_row0_col4\" class=\"data row0 col4\" >-0.023150</td>\n",
              "      <td id=\"T_3ffe9_row0_col5\" class=\"data row0 col5\" >0.025321</td>\n",
              "    </tr>\n",
              "    <tr>\n",
              "      <th id=\"T_3ffe9_level0_row1\" class=\"row_heading level0 row1\" >insert_date_hour</th>\n",
              "      <td id=\"T_3ffe9_row1_col0\" class=\"data row1 col0\" >-0.000234</td>\n",
              "      <td id=\"T_3ffe9_row1_col1\" class=\"data row1 col1\" >1.000000</td>\n",
              "      <td id=\"T_3ffe9_row1_col2\" class=\"data row1 col2\" >-0.012808</td>\n",
              "      <td id=\"T_3ffe9_row1_col3\" class=\"data row1 col3\" >-0.000976</td>\n",
              "      <td id=\"T_3ffe9_row1_col4\" class=\"data row1 col4\" >-0.021370</td>\n",
              "      <td id=\"T_3ffe9_row1_col5\" class=\"data row1 col5\" >-0.000949</td>\n",
              "    </tr>\n",
              "    <tr>\n",
              "      <th id=\"T_3ffe9_level0_row2\" class=\"row_heading level0 row2\" >insert_date_minute</th>\n",
              "      <td id=\"T_3ffe9_row2_col0\" class=\"data row2 col0\" >-0.020607</td>\n",
              "      <td id=\"T_3ffe9_row2_col1\" class=\"data row2 col1\" >-0.012808</td>\n",
              "      <td id=\"T_3ffe9_row2_col2\" class=\"data row2 col2\" >1.000000</td>\n",
              "      <td id=\"T_3ffe9_row2_col3\" class=\"data row2 col3\" >-0.024427</td>\n",
              "      <td id=\"T_3ffe9_row2_col4\" class=\"data row2 col4\" >0.011191</td>\n",
              "      <td id=\"T_3ffe9_row2_col5\" class=\"data row2 col5\" >0.044788</td>\n",
              "    </tr>\n",
              "    <tr>\n",
              "      <th id=\"T_3ffe9_level0_row3\" class=\"row_heading level0 row3\" >insert_date_second</th>\n",
              "      <td id=\"T_3ffe9_row3_col0\" class=\"data row3 col0\" >0.003265</td>\n",
              "      <td id=\"T_3ffe9_row3_col1\" class=\"data row3 col1\" >-0.000976</td>\n",
              "      <td id=\"T_3ffe9_row3_col2\" class=\"data row3 col2\" >-0.024427</td>\n",
              "      <td id=\"T_3ffe9_row3_col3\" class=\"data row3 col3\" >1.000000</td>\n",
              "      <td id=\"T_3ffe9_row3_col4\" class=\"data row3 col4\" >-0.002255</td>\n",
              "      <td id=\"T_3ffe9_row3_col5\" class=\"data row3 col5\" >0.003396</td>\n",
              "    </tr>\n",
              "    <tr>\n",
              "      <th id=\"T_3ffe9_level0_row4\" class=\"row_heading level0 row4\" >insert_date_day</th>\n",
              "      <td id=\"T_3ffe9_row4_col0\" class=\"data row4 col0\" >-0.023150</td>\n",
              "      <td id=\"T_3ffe9_row4_col1\" class=\"data row4 col1\" >-0.021370</td>\n",
              "      <td id=\"T_3ffe9_row4_col2\" class=\"data row4 col2\" >0.011191</td>\n",
              "      <td id=\"T_3ffe9_row4_col3\" class=\"data row4 col3\" >-0.002255</td>\n",
              "      <td id=\"T_3ffe9_row4_col4\" class=\"data row4 col4\" >1.000000</td>\n",
              "      <td id=\"T_3ffe9_row4_col5\" class=\"data row4 col5\" >-0.803938</td>\n",
              "    </tr>\n",
              "    <tr>\n",
              "      <th id=\"T_3ffe9_level0_row5\" class=\"row_heading level0 row5\" >insert_date_month</th>\n",
              "      <td id=\"T_3ffe9_row5_col0\" class=\"data row5 col0\" >0.025321</td>\n",
              "      <td id=\"T_3ffe9_row5_col1\" class=\"data row5 col1\" >-0.000949</td>\n",
              "      <td id=\"T_3ffe9_row5_col2\" class=\"data row5 col2\" >0.044788</td>\n",
              "      <td id=\"T_3ffe9_row5_col3\" class=\"data row5 col3\" >0.003396</td>\n",
              "      <td id=\"T_3ffe9_row5_col4\" class=\"data row5 col4\" >-0.803938</td>\n",
              "      <td id=\"T_3ffe9_row5_col5\" class=\"data row5 col5\" >1.000000</td>\n",
              "    </tr>\n",
              "  </tbody>\n",
              "</table>\n"
            ]
          },
          "metadata": {},
          "execution_count": 54
        }
      ]
    },
    {
      "metadata": {
        "id": "JbNI9KL17SNo"
      },
      "cell_type": "markdown",
      "source": [
        "The only highly correlated feature we can observe is the between the start and end date (both day and month). We can drop off one of each."
      ]
    },
    {
      "metadata": {
        "trusted": true,
        "id": "xlMEkgoA7SNo"
      },
      "cell_type": "code",
      "source": [
        "df.drop(columns=['end_date_day', 'end_date_month'], inplace=True)"
      ],
      "execution_count": 58,
      "outputs": []
    },
    {
      "metadata": {
        "trusted": true,
        "id": "blQVH9OK7SNp",
        "outputId": "57f9de6a-9226-4dea-c585-0d4f974b6650",
        "colab": {
          "base_uri": "https://localhost:8080/"
        }
      },
      "cell_type": "code",
      "source": [
        "price_freq = df['price'].value_counts()\n",
        "price_freq.head()"
      ],
      "execution_count": 59,
      "outputs": [
        {
          "output_type": "execute_result",
          "data": {
            "text/plain": [
              "76.30    166085\n",
              "28.35    141822\n",
              "85.10    124541\n",
              "60.30     83445\n",
              "75.40     80246\n",
              "Name: price, dtype: int64"
            ]
          },
          "metadata": {},
          "execution_count": 59
        }
      ]
    },
    {
      "metadata": {
        "trusted": true,
        "id": "QKbMGKPu7SNp",
        "outputId": "c2c6066d-36f0-4b1c-d103-54bf072b9847",
        "colab": {
          "base_uri": "https://localhost:8080/"
        }
      },
      "cell_type": "code",
      "source": [
        "price_freq.tail()"
      ],
      "execution_count": 60,
      "outputs": [
        {
          "output_type": "execute_result",
          "data": {
            "text/plain": [
              "40.93    1\n",
              "85.15    1\n",
              "16.75    1\n",
              "26.65    1\n",
              "68.97    1\n",
              "Name: price, dtype: int64"
            ]
          },
          "metadata": {},
          "execution_count": 60
        }
      ]
    },
    {
      "metadata": {
        "trusted": true,
        "id": "hp8YI8tt7SNp"
      },
      "cell_type": "code",
      "source": [
        "X_df = df.drop(columns='price')\n",
        "y = df['price'].values"
      ],
      "execution_count": 61,
      "outputs": []
    },
    {
      "metadata": {
        "trusted": true,
        "id": "f-68dAQX7SNq",
        "outputId": "65c33f19-5e9b-41b3-82e7-6bf9ee2f8a1a",
        "colab": {
          "base_uri": "https://localhost:8080/"
        }
      },
      "cell_type": "code",
      "source": [
        "encoder = OneHotEncoder()\n",
        "X = encoder.fit_transform(X_df.values)\n",
        "X"
      ],
      "execution_count": 62,
      "outputs": [
        {
          "output_type": "execute_result",
          "data": {
            "text/plain": [
              "<2269090x367 sparse matrix of type '<class 'numpy.float64'>'\n",
              "\twith 49919980 stored elements in Compressed Sparse Row format>"
            ]
          },
          "metadata": {},
          "execution_count": 62
        }
      ]
    },
    {
      "metadata": {
        "trusted": true,
        "id": "NnQcG8ja7SNr",
        "outputId": "e875efe9-5746-418a-9a6f-6e1094a67a28",
        "colab": {
          "base_uri": "https://localhost:8080/"
        }
      },
      "cell_type": "code",
      "source": [
        "for category in encoder.categories_:\n",
        "    print(category[:5])"
      ],
      "execution_count": 63,
      "outputs": [
        {
          "output_type": "stream",
          "name": "stdout",
          "text": [
            "['BARCELONA' 'MADRID' 'PONFERRADA' 'SEVILLA' 'VALENCIA']\n",
            "['BARCELONA' 'MADRID' 'PONFERRADA' 'SEVILLA' 'VALENCIA']\n",
            "['ALVIA' 'AV City' 'AVE' 'AVE-LD' 'AVE-MD']\n",
            "['Cama G. Clase' 'Cama Turista' 'Preferente' 'Turista' 'Turista Plus']\n",
            "['Adulto ida' 'Flexible' 'Grupos Ida' 'Individual-Flexible' 'Mesa']\n",
            "[0 1 2 3 4]\n",
            "[0 1 2 3 4]\n",
            "[0 1 2 3 4]\n",
            "[1 2 3 4 5]\n",
            "[4 5]\n",
            "[2 5 6 7 8]\n",
            "[0 3 5 8 10]\n",
            "[0]\n",
            "[<bound method PandasDelegate._add_delegate_accessors.<locals>._create_delegator_method.<locals>.f of <pandas.core.indexes.accessors.DatetimeProperties object at 0x7d5eb5c83e80>>]\n",
            "[1 2 3 4 5]\n",
            "[4 5 6 7]\n",
            "[2019]\n",
            "[0 4 8 9 10]\n",
            "[0 1 2 3 4]\n",
            "[0]\n",
            "[<bound method PandasDelegate._add_delegate_accessors.<locals>._create_delegator_method.<locals>.f of <pandas.core.indexes.accessors.DatetimeProperties object at 0x7d5eb5c839a0>>]\n",
            "[2019]\n"
          ]
        }
      ]
    },
    {
      "metadata": {
        "trusted": true,
        "id": "upigu3Du7SNs",
        "outputId": "508a9564-1899-45fa-821c-64609816b256",
        "colab": {
          "base_uri": "https://localhost:8080/"
        }
      },
      "cell_type": "code",
      "source": [
        "X_train, X_test, y_train, y_test = train_test_split(\n",
        "    X, y, test_size=0.1, random_state=2019\n",
        ")\n",
        "\n",
        "print(X_train.shape)\n",
        "print(X_test.shape)\n",
        "print(y_train.shape)\n",
        "print(y_test.shape)"
      ],
      "execution_count": 64,
      "outputs": [
        {
          "output_type": "stream",
          "name": "stdout",
          "text": [
            "(2042181, 367)\n",
            "(226909, 367)\n",
            "(2042181,)\n",
            "(226909,)\n"
          ]
        }
      ]
    },
    {
      "metadata": {
        "trusted": true,
        "id": "bvexoqtF7SNt",
        "outputId": "5be2d6e1-abf6-4827-cf4f-3a6a1086b897",
        "colab": {
          "base_uri": "https://localhost:8080/",
          "height": 87
        }
      },
      "cell_type": "code",
      "source": [
        "%%time\n",
        "model = LinearRegression()\n",
        "model.fit(X_train, y_train)"
      ],
      "execution_count": 65,
      "outputs": [
        {
          "output_type": "stream",
          "name": "stdout",
          "text": [
            "CPU times: user 1min 22s, sys: 1min 15s, total: 2min 37s\n",
            "Wall time: 1min 39s\n"
          ]
        },
        {
          "output_type": "execute_result",
          "data": {
            "text/plain": [
              "LinearRegression()"
            ],
            "text/html": [
              "<style>#sk-container-id-1 {color: black;background-color: white;}#sk-container-id-1 pre{padding: 0;}#sk-container-id-1 div.sk-toggleable {background-color: white;}#sk-container-id-1 label.sk-toggleable__label {cursor: pointer;display: block;width: 100%;margin-bottom: 0;padding: 0.3em;box-sizing: border-box;text-align: center;}#sk-container-id-1 label.sk-toggleable__label-arrow:before {content: \"▸\";float: left;margin-right: 0.25em;color: #696969;}#sk-container-id-1 label.sk-toggleable__label-arrow:hover:before {color: black;}#sk-container-id-1 div.sk-estimator:hover label.sk-toggleable__label-arrow:before {color: black;}#sk-container-id-1 div.sk-toggleable__content {max-height: 0;max-width: 0;overflow: hidden;text-align: left;background-color: #f0f8ff;}#sk-container-id-1 div.sk-toggleable__content pre {margin: 0.2em;color: black;border-radius: 0.25em;background-color: #f0f8ff;}#sk-container-id-1 input.sk-toggleable__control:checked~div.sk-toggleable__content {max-height: 200px;max-width: 100%;overflow: auto;}#sk-container-id-1 input.sk-toggleable__control:checked~label.sk-toggleable__label-arrow:before {content: \"▾\";}#sk-container-id-1 div.sk-estimator input.sk-toggleable__control:checked~label.sk-toggleable__label {background-color: #d4ebff;}#sk-container-id-1 div.sk-label input.sk-toggleable__control:checked~label.sk-toggleable__label {background-color: #d4ebff;}#sk-container-id-1 input.sk-hidden--visually {border: 0;clip: rect(1px 1px 1px 1px);clip: rect(1px, 1px, 1px, 1px);height: 1px;margin: -1px;overflow: hidden;padding: 0;position: absolute;width: 1px;}#sk-container-id-1 div.sk-estimator {font-family: monospace;background-color: #f0f8ff;border: 1px dotted black;border-radius: 0.25em;box-sizing: border-box;margin-bottom: 0.5em;}#sk-container-id-1 div.sk-estimator:hover {background-color: #d4ebff;}#sk-container-id-1 div.sk-parallel-item::after {content: \"\";width: 100%;border-bottom: 1px solid gray;flex-grow: 1;}#sk-container-id-1 div.sk-label:hover label.sk-toggleable__label {background-color: #d4ebff;}#sk-container-id-1 div.sk-serial::before {content: \"\";position: absolute;border-left: 1px solid gray;box-sizing: border-box;top: 0;bottom: 0;left: 50%;z-index: 0;}#sk-container-id-1 div.sk-serial {display: flex;flex-direction: column;align-items: center;background-color: white;padding-right: 0.2em;padding-left: 0.2em;position: relative;}#sk-container-id-1 div.sk-item {position: relative;z-index: 1;}#sk-container-id-1 div.sk-parallel {display: flex;align-items: stretch;justify-content: center;background-color: white;position: relative;}#sk-container-id-1 div.sk-item::before, #sk-container-id-1 div.sk-parallel-item::before {content: \"\";position: absolute;border-left: 1px solid gray;box-sizing: border-box;top: 0;bottom: 0;left: 50%;z-index: -1;}#sk-container-id-1 div.sk-parallel-item {display: flex;flex-direction: column;z-index: 1;position: relative;background-color: white;}#sk-container-id-1 div.sk-parallel-item:first-child::after {align-self: flex-end;width: 50%;}#sk-container-id-1 div.sk-parallel-item:last-child::after {align-self: flex-start;width: 50%;}#sk-container-id-1 div.sk-parallel-item:only-child::after {width: 0;}#sk-container-id-1 div.sk-dashed-wrapped {border: 1px dashed gray;margin: 0 0.4em 0.5em 0.4em;box-sizing: border-box;padding-bottom: 0.4em;background-color: white;}#sk-container-id-1 div.sk-label label {font-family: monospace;font-weight: bold;display: inline-block;line-height: 1.2em;}#sk-container-id-1 div.sk-label-container {text-align: center;}#sk-container-id-1 div.sk-container {/* jupyter's `normalize.less` sets `[hidden] { display: none; }` but bootstrap.min.css set `[hidden] { display: none !important; }` so we also need the `!important` here to be able to override the default hidden behavior on the sphinx rendered scikit-learn.org. See: https://github.com/scikit-learn/scikit-learn/issues/21755 */display: inline-block !important;position: relative;}#sk-container-id-1 div.sk-text-repr-fallback {display: none;}</style><div id=\"sk-container-id-1\" class=\"sk-top-container\"><div class=\"sk-text-repr-fallback\"><pre>LinearRegression()</pre><b>In a Jupyter environment, please rerun this cell to show the HTML representation or trust the notebook. <br />On GitHub, the HTML representation is unable to render, please try loading this page with nbviewer.org.</b></div><div class=\"sk-container\" hidden><div class=\"sk-item\"><div class=\"sk-estimator sk-toggleable\"><input class=\"sk-toggleable__control sk-hidden--visually\" id=\"sk-estimator-id-1\" type=\"checkbox\" checked><label for=\"sk-estimator-id-1\" class=\"sk-toggleable__label sk-toggleable__label-arrow\">LinearRegression</label><div class=\"sk-toggleable__content\"><pre>LinearRegression()</pre></div></div></div></div></div>"
            ]
          },
          "metadata": {},
          "execution_count": 65
        }
      ]
    },
    {
      "metadata": {
        "trusted": true,
        "id": "auPwmy967SNt",
        "outputId": "18b2669e-abed-444a-8a1c-090b2cfd05b8",
        "colab": {
          "base_uri": "https://localhost:8080/"
        }
      },
      "cell_type": "code",
      "source": [
        "train_score = model.score(X_train, y_train)\n",
        "test_score = model.score(X_test, y_test)\n",
        "\n",
        "print(\"Train Score:\", train_score)\n",
        "print(\"Test Score:\", test_score)"
      ],
      "execution_count": 66,
      "outputs": [
        {
          "output_type": "stream",
          "name": "stdout",
          "text": [
            "Train Score: 0.8639659531210708\n",
            "Test Score: 0.8645044205218928\n"
          ]
        }
      ]
    },
    {
      "metadata": {
        "trusted": true,
        "id": "eF4zYtcL7SNu",
        "outputId": "abaa157a-7c16-4574-92b8-163788e9f817",
        "colab": {
          "base_uri": "https://localhost:8080/"
        }
      },
      "cell_type": "code",
      "source": [
        "def compute_mse(model, X, y_true, name):\n",
        "    y_pred = model.predict(X)\n",
        "    mse = mean_squared_error(y_true, y_pred)\n",
        "    print(f'Mean Squared Error for {name}: {mse}')\n",
        "\n",
        "compute_mse(model, X_train, y_train, 'training set')\n",
        "compute_mse(model, X_test, y_test, 'test set')"
      ],
      "execution_count": 67,
      "outputs": [
        {
          "output_type": "stream",
          "name": "stdout",
          "text": [
            "Mean Squared Error for training set: 90.46169003065548\n",
            "Mean Squared Error for test set: 89.80471424657136\n"
          ]
        }
      ]
    },
    {
      "metadata": {
        "id": "8Gx15n9b7SN1"
      },
      "cell_type": "markdown",
      "source": [
        "The MSE is pretty high, considering that the mean is only:"
      ]
    },
    {
      "metadata": {
        "trusted": true,
        "_kg_hide-input": true,
        "id": "9kq2T50b7SN2",
        "outputId": "b634a848-c08e-4d12-8766-40c87852b2cd",
        "colab": {
          "base_uri": "https://localhost:8080/"
        }
      },
      "cell_type": "code",
      "source": [
        "y_train.mean()"
      ],
      "execution_count": 68,
      "outputs": [
        {
          "output_type": "execute_result",
          "data": {
            "text/plain": [
              "63.38648255468053"
            ]
          },
          "metadata": {},
          "execution_count": 68
        }
      ]
    },
    {
      "metadata": {
        "id": "1h4llBxS7SN2"
      },
      "cell_type": "markdown",
      "source": [
        "This teaches us to not trust a single evaluation metric! Therefore, there is still some room for improvement."
      ]
    },
    {
      "metadata": {
        "id": "bkIFctn_7SN2"
      },
      "cell_type": "markdown",
      "source": [
        "Instead of repeating ourselves, we will build a simple function called `evaluate`, which will print the score and MSE of our models on both the training and test sets."
      ]
    },
    {
      "metadata": {
        "trusted": true,
        "id": "QcCQir3V7SN3"
      },
      "cell_type": "code",
      "source": [
        "def build_evaluate_fn(X_train, y_train, X_test, y_test):\n",
        "    def evaluate(model):\n",
        "        train_score = model.score(X_train, y_train)\n",
        "        test_score = model.score(X_test, y_test)\n",
        "\n",
        "        print(\"Train Score:\", train_score)\n",
        "        print(\"Test Score:\", test_score)\n",
        "        print()\n",
        "\n",
        "        compute_mse(model, X_train, y_train, 'training set')\n",
        "        compute_mse(model, X_test, y_test, 'test set')\n",
        "\n",
        "    return evaluate\n",
        "\n",
        "evaluate = build_evaluate_fn(X_train, y_train, X_test, y_test)"
      ],
      "execution_count": 69,
      "outputs": []
    },
    {
      "metadata": {
        "trusted": true,
        "id": "bpXTAs6-7SN3",
        "outputId": "5848f7ef-8c80-4337-9bc2-dcc248a0202c",
        "colab": {
          "base_uri": "https://localhost:8080/",
          "height": 110
        }
      },
      "cell_type": "code",
      "source": [
        "%%time\n",
        "svm = LinearSVR()\n",
        "svm.fit(X_train, y_train);"
      ],
      "execution_count": 70,
      "outputs": [
        {
          "output_type": "stream",
          "name": "stdout",
          "text": [
            "CPU times: user 3min 43s, sys: 558 ms, total: 3min 43s\n",
            "Wall time: 3min 45s\n"
          ]
        },
        {
          "output_type": "execute_result",
          "data": {
            "text/plain": [
              "LinearSVR()"
            ],
            "text/html": [
              "<style>#sk-container-id-2 {color: black;background-color: white;}#sk-container-id-2 pre{padding: 0;}#sk-container-id-2 div.sk-toggleable {background-color: white;}#sk-container-id-2 label.sk-toggleable__label {cursor: pointer;display: block;width: 100%;margin-bottom: 0;padding: 0.3em;box-sizing: border-box;text-align: center;}#sk-container-id-2 label.sk-toggleable__label-arrow:before {content: \"▸\";float: left;margin-right: 0.25em;color: #696969;}#sk-container-id-2 label.sk-toggleable__label-arrow:hover:before {color: black;}#sk-container-id-2 div.sk-estimator:hover label.sk-toggleable__label-arrow:before {color: black;}#sk-container-id-2 div.sk-toggleable__content {max-height: 0;max-width: 0;overflow: hidden;text-align: left;background-color: #f0f8ff;}#sk-container-id-2 div.sk-toggleable__content pre {margin: 0.2em;color: black;border-radius: 0.25em;background-color: #f0f8ff;}#sk-container-id-2 input.sk-toggleable__control:checked~div.sk-toggleable__content {max-height: 200px;max-width: 100%;overflow: auto;}#sk-container-id-2 input.sk-toggleable__control:checked~label.sk-toggleable__label-arrow:before {content: \"▾\";}#sk-container-id-2 div.sk-estimator input.sk-toggleable__control:checked~label.sk-toggleable__label {background-color: #d4ebff;}#sk-container-id-2 div.sk-label input.sk-toggleable__control:checked~label.sk-toggleable__label {background-color: #d4ebff;}#sk-container-id-2 input.sk-hidden--visually {border: 0;clip: rect(1px 1px 1px 1px);clip: rect(1px, 1px, 1px, 1px);height: 1px;margin: -1px;overflow: hidden;padding: 0;position: absolute;width: 1px;}#sk-container-id-2 div.sk-estimator {font-family: monospace;background-color: #f0f8ff;border: 1px dotted black;border-radius: 0.25em;box-sizing: border-box;margin-bottom: 0.5em;}#sk-container-id-2 div.sk-estimator:hover {background-color: #d4ebff;}#sk-container-id-2 div.sk-parallel-item::after {content: \"\";width: 100%;border-bottom: 1px solid gray;flex-grow: 1;}#sk-container-id-2 div.sk-label:hover label.sk-toggleable__label {background-color: #d4ebff;}#sk-container-id-2 div.sk-serial::before {content: \"\";position: absolute;border-left: 1px solid gray;box-sizing: border-box;top: 0;bottom: 0;left: 50%;z-index: 0;}#sk-container-id-2 div.sk-serial {display: flex;flex-direction: column;align-items: center;background-color: white;padding-right: 0.2em;padding-left: 0.2em;position: relative;}#sk-container-id-2 div.sk-item {position: relative;z-index: 1;}#sk-container-id-2 div.sk-parallel {display: flex;align-items: stretch;justify-content: center;background-color: white;position: relative;}#sk-container-id-2 div.sk-item::before, #sk-container-id-2 div.sk-parallel-item::before {content: \"\";position: absolute;border-left: 1px solid gray;box-sizing: border-box;top: 0;bottom: 0;left: 50%;z-index: -1;}#sk-container-id-2 div.sk-parallel-item {display: flex;flex-direction: column;z-index: 1;position: relative;background-color: white;}#sk-container-id-2 div.sk-parallel-item:first-child::after {align-self: flex-end;width: 50%;}#sk-container-id-2 div.sk-parallel-item:last-child::after {align-self: flex-start;width: 50%;}#sk-container-id-2 div.sk-parallel-item:only-child::after {width: 0;}#sk-container-id-2 div.sk-dashed-wrapped {border: 1px dashed gray;margin: 0 0.4em 0.5em 0.4em;box-sizing: border-box;padding-bottom: 0.4em;background-color: white;}#sk-container-id-2 div.sk-label label {font-family: monospace;font-weight: bold;display: inline-block;line-height: 1.2em;}#sk-container-id-2 div.sk-label-container {text-align: center;}#sk-container-id-2 div.sk-container {/* jupyter's `normalize.less` sets `[hidden] { display: none; }` but bootstrap.min.css set `[hidden] { display: none !important; }` so we also need the `!important` here to be able to override the default hidden behavior on the sphinx rendered scikit-learn.org. See: https://github.com/scikit-learn/scikit-learn/issues/21755 */display: inline-block !important;position: relative;}#sk-container-id-2 div.sk-text-repr-fallback {display: none;}</style><div id=\"sk-container-id-2\" class=\"sk-top-container\"><div class=\"sk-text-repr-fallback\"><pre>LinearSVR()</pre><b>In a Jupyter environment, please rerun this cell to show the HTML representation or trust the notebook. <br />On GitHub, the HTML representation is unable to render, please try loading this page with nbviewer.org.</b></div><div class=\"sk-container\" hidden><div class=\"sk-item\"><div class=\"sk-estimator sk-toggleable\"><input class=\"sk-toggleable__control sk-hidden--visually\" id=\"sk-estimator-id-2\" type=\"checkbox\" checked><label for=\"sk-estimator-id-2\" class=\"sk-toggleable__label sk-toggleable__label-arrow\">LinearSVR</label><div class=\"sk-toggleable__content\"><pre>LinearSVR()</pre></div></div></div></div></div>"
            ]
          },
          "metadata": {},
          "execution_count": 70
        }
      ]
    },
    {
      "metadata": {
        "trusted": true,
        "id": "rMX9tq_l7SN3",
        "outputId": "fcbd06e8-26ff-4dbf-fcb0-3b756112b0f2",
        "colab": {
          "base_uri": "https://localhost:8080/"
        }
      },
      "cell_type": "code",
      "source": [
        "evaluate(svm)"
      ],
      "execution_count": 71,
      "outputs": [
        {
          "output_type": "stream",
          "name": "stdout",
          "text": [
            "Train Score: 0.8447945180605373\n",
            "Test Score: 0.8451163721258317\n",
            "\n",
            "Mean Squared Error for training set: 103.21056030011344\n",
            "Mean Squared Error for test set: 102.65486148173109\n"
          ]
        }
      ]
    },
    {
      "metadata": {
        "trusted": true,
        "id": "JE889ldb7SN4",
        "outputId": "e29142c1-3e01-4842-e306-3b2ede28ffa1",
        "colab": {
          "base_uri": "https://localhost:8080/",
          "height": 214
        }
      },
      "cell_type": "code",
      "source": [
        "%%time\n",
        "gbr = LGBMRegressor(n_estimators=1000)\n",
        "gbr.fit(X_train, y_train)"
      ],
      "execution_count": 72,
      "outputs": [
        {
          "output_type": "stream",
          "name": "stdout",
          "text": [
            "[LightGBM] [Info] Auto-choosing row-wise multi-threading, the overhead of testing was 0.593520 seconds.\n",
            "You can set `force_row_wise=true` to remove the overhead.\n",
            "And if memory is not enough, you can set `force_col_wise=true`.\n",
            "[LightGBM] [Info] Total Bins 722\n",
            "[LightGBM] [Info] Number of data points in the train set: 2042181, number of used features: 361\n",
            "[LightGBM] [Info] Start training from score 63.386483\n",
            "CPU times: user 2min 2s, sys: 0 ns, total: 2min 2s\n",
            "Wall time: 2min 2s\n"
          ]
        },
        {
          "output_type": "execute_result",
          "data": {
            "text/plain": [
              "LGBMRegressor(n_estimators=1000)"
            ],
            "text/html": [
              "<style>#sk-container-id-3 {color: black;background-color: white;}#sk-container-id-3 pre{padding: 0;}#sk-container-id-3 div.sk-toggleable {background-color: white;}#sk-container-id-3 label.sk-toggleable__label {cursor: pointer;display: block;width: 100%;margin-bottom: 0;padding: 0.3em;box-sizing: border-box;text-align: center;}#sk-container-id-3 label.sk-toggleable__label-arrow:before {content: \"▸\";float: left;margin-right: 0.25em;color: #696969;}#sk-container-id-3 label.sk-toggleable__label-arrow:hover:before {color: black;}#sk-container-id-3 div.sk-estimator:hover label.sk-toggleable__label-arrow:before {color: black;}#sk-container-id-3 div.sk-toggleable__content {max-height: 0;max-width: 0;overflow: hidden;text-align: left;background-color: #f0f8ff;}#sk-container-id-3 div.sk-toggleable__content pre {margin: 0.2em;color: black;border-radius: 0.25em;background-color: #f0f8ff;}#sk-container-id-3 input.sk-toggleable__control:checked~div.sk-toggleable__content {max-height: 200px;max-width: 100%;overflow: auto;}#sk-container-id-3 input.sk-toggleable__control:checked~label.sk-toggleable__label-arrow:before {content: \"▾\";}#sk-container-id-3 div.sk-estimator input.sk-toggleable__control:checked~label.sk-toggleable__label {background-color: #d4ebff;}#sk-container-id-3 div.sk-label input.sk-toggleable__control:checked~label.sk-toggleable__label {background-color: #d4ebff;}#sk-container-id-3 input.sk-hidden--visually {border: 0;clip: rect(1px 1px 1px 1px);clip: rect(1px, 1px, 1px, 1px);height: 1px;margin: -1px;overflow: hidden;padding: 0;position: absolute;width: 1px;}#sk-container-id-3 div.sk-estimator {font-family: monospace;background-color: #f0f8ff;border: 1px dotted black;border-radius: 0.25em;box-sizing: border-box;margin-bottom: 0.5em;}#sk-container-id-3 div.sk-estimator:hover {background-color: #d4ebff;}#sk-container-id-3 div.sk-parallel-item::after {content: \"\";width: 100%;border-bottom: 1px solid gray;flex-grow: 1;}#sk-container-id-3 div.sk-label:hover label.sk-toggleable__label {background-color: #d4ebff;}#sk-container-id-3 div.sk-serial::before {content: \"\";position: absolute;border-left: 1px solid gray;box-sizing: border-box;top: 0;bottom: 0;left: 50%;z-index: 0;}#sk-container-id-3 div.sk-serial {display: flex;flex-direction: column;align-items: center;background-color: white;padding-right: 0.2em;padding-left: 0.2em;position: relative;}#sk-container-id-3 div.sk-item {position: relative;z-index: 1;}#sk-container-id-3 div.sk-parallel {display: flex;align-items: stretch;justify-content: center;background-color: white;position: relative;}#sk-container-id-3 div.sk-item::before, #sk-container-id-3 div.sk-parallel-item::before {content: \"\";position: absolute;border-left: 1px solid gray;box-sizing: border-box;top: 0;bottom: 0;left: 50%;z-index: -1;}#sk-container-id-3 div.sk-parallel-item {display: flex;flex-direction: column;z-index: 1;position: relative;background-color: white;}#sk-container-id-3 div.sk-parallel-item:first-child::after {align-self: flex-end;width: 50%;}#sk-container-id-3 div.sk-parallel-item:last-child::after {align-self: flex-start;width: 50%;}#sk-container-id-3 div.sk-parallel-item:only-child::after {width: 0;}#sk-container-id-3 div.sk-dashed-wrapped {border: 1px dashed gray;margin: 0 0.4em 0.5em 0.4em;box-sizing: border-box;padding-bottom: 0.4em;background-color: white;}#sk-container-id-3 div.sk-label label {font-family: monospace;font-weight: bold;display: inline-block;line-height: 1.2em;}#sk-container-id-3 div.sk-label-container {text-align: center;}#sk-container-id-3 div.sk-container {/* jupyter's `normalize.less` sets `[hidden] { display: none; }` but bootstrap.min.css set `[hidden] { display: none !important; }` so we also need the `!important` here to be able to override the default hidden behavior on the sphinx rendered scikit-learn.org. See: https://github.com/scikit-learn/scikit-learn/issues/21755 */display: inline-block !important;position: relative;}#sk-container-id-3 div.sk-text-repr-fallback {display: none;}</style><div id=\"sk-container-id-3\" class=\"sk-top-container\"><div class=\"sk-text-repr-fallback\"><pre>LGBMRegressor(n_estimators=1000)</pre><b>In a Jupyter environment, please rerun this cell to show the HTML representation or trust the notebook. <br />On GitHub, the HTML representation is unable to render, please try loading this page with nbviewer.org.</b></div><div class=\"sk-container\" hidden><div class=\"sk-item\"><div class=\"sk-estimator sk-toggleable\"><input class=\"sk-toggleable__control sk-hidden--visually\" id=\"sk-estimator-id-3\" type=\"checkbox\" checked><label for=\"sk-estimator-id-3\" class=\"sk-toggleable__label sk-toggleable__label-arrow\">LGBMRegressor</label><div class=\"sk-toggleable__content\"><pre>LGBMRegressor(n_estimators=1000)</pre></div></div></div></div></div>"
            ]
          },
          "metadata": {},
          "execution_count": 72
        }
      ]
    },
    {
      "metadata": {
        "trusted": true,
        "id": "3GjLSp6t7SN4",
        "outputId": "ec05764f-e6cd-4783-9b74-ad158ae92040",
        "colab": {
          "base_uri": "https://localhost:8080/"
        }
      },
      "cell_type": "code",
      "source": [
        "evaluate(gbr)"
      ],
      "execution_count": 73,
      "outputs": [
        {
          "output_type": "stream",
          "name": "stdout",
          "text": [
            "Train Score: 0.9703796155081951\n",
            "Test Score: 0.9701595573248275\n",
            "\n",
            "Mean Squared Error for training set: 19.697348582677012\n",
            "Mean Squared Error for test set: 19.777858715073783\n"
          ]
        }
      ]
    },
    {
      "cell_type": "code",
      "source": [
        "df.head()"
      ],
      "metadata": {
        "id": "K_rNQo_puFbb",
        "outputId": "da3afedf-4ec1-4f5d-effa-3984935f1a7a",
        "colab": {
          "base_uri": "https://localhost:8080/",
          "height": 618
        }
      },
      "execution_count": 74,
      "outputs": [
        {
          "output_type": "execute_result",
          "data": {
            "text/plain": [
              "   origin destination train_type  price train_class   fare  insert_date_hour  \\\n",
              "0  MADRID     SEVILLA    AV City  38.55     Turista  Promo                 5   \n",
              "1  MADRID     SEVILLA        AVE  53.40     Turista  Promo                 5   \n",
              "2  MADRID     SEVILLA        AVE  47.30     Turista  Promo                 5   \n",
              "3  MADRID     SEVILLA        AVE  69.40  Preferente  Promo                 5   \n",
              "5  MADRID     SEVILLA        AVE  60.30     Turista  Promo                 5   \n",
              "\n",
              "   insert_date_minute  insert_date_second  insert_date_day  ...  \\\n",
              "0                  31                  43               19  ...   \n",
              "1                  31                  43               19  ...   \n",
              "2                  31                  43               19  ...   \n",
              "3                  31                  43               19  ...   \n",
              "5                  31                  43               19  ...   \n",
              "\n",
              "   start_date_second                                 start_date_weekday  \\\n",
              "0                  0  <bound method PandasDelegate._add_delegate_acc...   \n",
              "1                  0  <bound method PandasDelegate._add_delegate_acc...   \n",
              "2                  0  <bound method PandasDelegate._add_delegate_acc...   \n",
              "3                  0  <bound method PandasDelegate._add_delegate_acc...   \n",
              "5                  0  <bound method PandasDelegate._add_delegate_acc...   \n",
              "\n",
              "   start_date_day  start_date_month start_date_year  end_date_hour  \\\n",
              "0              29                 5            2019              9   \n",
              "1              29                 5            2019              9   \n",
              "2              29                 5            2019              9   \n",
              "3              29                 5            2019             10   \n",
              "5              29                 5            2019             11   \n",
              "\n",
              "   end_date_minute  end_date_second  \\\n",
              "0               16                0   \n",
              "1               32                0   \n",
              "2               51                0   \n",
              "3               32                0   \n",
              "5               38                0   \n",
              "\n",
              "                                    end_date_weekday  end_date_year  \n",
              "0  <bound method PandasDelegate._add_delegate_acc...           2019  \n",
              "1  <bound method PandasDelegate._add_delegate_acc...           2019  \n",
              "2  <bound method PandasDelegate._add_delegate_acc...           2019  \n",
              "3  <bound method PandasDelegate._add_delegate_acc...           2019  \n",
              "5  <bound method PandasDelegate._add_delegate_acc...           2019  \n",
              "\n",
              "[5 rows x 23 columns]"
            ],
            "text/html": [
              "\n",
              "  <div id=\"df-f52f1e06-1785-400f-a564-81ced5fddbf7\" class=\"colab-df-container\">\n",
              "    <div>\n",
              "<style scoped>\n",
              "    .dataframe tbody tr th:only-of-type {\n",
              "        vertical-align: middle;\n",
              "    }\n",
              "\n",
              "    .dataframe tbody tr th {\n",
              "        vertical-align: top;\n",
              "    }\n",
              "\n",
              "    .dataframe thead th {\n",
              "        text-align: right;\n",
              "    }\n",
              "</style>\n",
              "<table border=\"1\" class=\"dataframe\">\n",
              "  <thead>\n",
              "    <tr style=\"text-align: right;\">\n",
              "      <th></th>\n",
              "      <th>origin</th>\n",
              "      <th>destination</th>\n",
              "      <th>train_type</th>\n",
              "      <th>price</th>\n",
              "      <th>train_class</th>\n",
              "      <th>fare</th>\n",
              "      <th>insert_date_hour</th>\n",
              "      <th>insert_date_minute</th>\n",
              "      <th>insert_date_second</th>\n",
              "      <th>insert_date_day</th>\n",
              "      <th>...</th>\n",
              "      <th>start_date_second</th>\n",
              "      <th>start_date_weekday</th>\n",
              "      <th>start_date_day</th>\n",
              "      <th>start_date_month</th>\n",
              "      <th>start_date_year</th>\n",
              "      <th>end_date_hour</th>\n",
              "      <th>end_date_minute</th>\n",
              "      <th>end_date_second</th>\n",
              "      <th>end_date_weekday</th>\n",
              "      <th>end_date_year</th>\n",
              "    </tr>\n",
              "  </thead>\n",
              "  <tbody>\n",
              "    <tr>\n",
              "      <th>0</th>\n",
              "      <td>MADRID</td>\n",
              "      <td>SEVILLA</td>\n",
              "      <td>AV City</td>\n",
              "      <td>38.55</td>\n",
              "      <td>Turista</td>\n",
              "      <td>Promo</td>\n",
              "      <td>5</td>\n",
              "      <td>31</td>\n",
              "      <td>43</td>\n",
              "      <td>19</td>\n",
              "      <td>...</td>\n",
              "      <td>0</td>\n",
              "      <td>&lt;bound method PandasDelegate._add_delegate_acc...</td>\n",
              "      <td>29</td>\n",
              "      <td>5</td>\n",
              "      <td>2019</td>\n",
              "      <td>9</td>\n",
              "      <td>16</td>\n",
              "      <td>0</td>\n",
              "      <td>&lt;bound method PandasDelegate._add_delegate_acc...</td>\n",
              "      <td>2019</td>\n",
              "    </tr>\n",
              "    <tr>\n",
              "      <th>1</th>\n",
              "      <td>MADRID</td>\n",
              "      <td>SEVILLA</td>\n",
              "      <td>AVE</td>\n",
              "      <td>53.40</td>\n",
              "      <td>Turista</td>\n",
              "      <td>Promo</td>\n",
              "      <td>5</td>\n",
              "      <td>31</td>\n",
              "      <td>43</td>\n",
              "      <td>19</td>\n",
              "      <td>...</td>\n",
              "      <td>0</td>\n",
              "      <td>&lt;bound method PandasDelegate._add_delegate_acc...</td>\n",
              "      <td>29</td>\n",
              "      <td>5</td>\n",
              "      <td>2019</td>\n",
              "      <td>9</td>\n",
              "      <td>32</td>\n",
              "      <td>0</td>\n",
              "      <td>&lt;bound method PandasDelegate._add_delegate_acc...</td>\n",
              "      <td>2019</td>\n",
              "    </tr>\n",
              "    <tr>\n",
              "      <th>2</th>\n",
              "      <td>MADRID</td>\n",
              "      <td>SEVILLA</td>\n",
              "      <td>AVE</td>\n",
              "      <td>47.30</td>\n",
              "      <td>Turista</td>\n",
              "      <td>Promo</td>\n",
              "      <td>5</td>\n",
              "      <td>31</td>\n",
              "      <td>43</td>\n",
              "      <td>19</td>\n",
              "      <td>...</td>\n",
              "      <td>0</td>\n",
              "      <td>&lt;bound method PandasDelegate._add_delegate_acc...</td>\n",
              "      <td>29</td>\n",
              "      <td>5</td>\n",
              "      <td>2019</td>\n",
              "      <td>9</td>\n",
              "      <td>51</td>\n",
              "      <td>0</td>\n",
              "      <td>&lt;bound method PandasDelegate._add_delegate_acc...</td>\n",
              "      <td>2019</td>\n",
              "    </tr>\n",
              "    <tr>\n",
              "      <th>3</th>\n",
              "      <td>MADRID</td>\n",
              "      <td>SEVILLA</td>\n",
              "      <td>AVE</td>\n",
              "      <td>69.40</td>\n",
              "      <td>Preferente</td>\n",
              "      <td>Promo</td>\n",
              "      <td>5</td>\n",
              "      <td>31</td>\n",
              "      <td>43</td>\n",
              "      <td>19</td>\n",
              "      <td>...</td>\n",
              "      <td>0</td>\n",
              "      <td>&lt;bound method PandasDelegate._add_delegate_acc...</td>\n",
              "      <td>29</td>\n",
              "      <td>5</td>\n",
              "      <td>2019</td>\n",
              "      <td>10</td>\n",
              "      <td>32</td>\n",
              "      <td>0</td>\n",
              "      <td>&lt;bound method PandasDelegate._add_delegate_acc...</td>\n",
              "      <td>2019</td>\n",
              "    </tr>\n",
              "    <tr>\n",
              "      <th>5</th>\n",
              "      <td>MADRID</td>\n",
              "      <td>SEVILLA</td>\n",
              "      <td>AVE</td>\n",
              "      <td>60.30</td>\n",
              "      <td>Turista</td>\n",
              "      <td>Promo</td>\n",
              "      <td>5</td>\n",
              "      <td>31</td>\n",
              "      <td>43</td>\n",
              "      <td>19</td>\n",
              "      <td>...</td>\n",
              "      <td>0</td>\n",
              "      <td>&lt;bound method PandasDelegate._add_delegate_acc...</td>\n",
              "      <td>29</td>\n",
              "      <td>5</td>\n",
              "      <td>2019</td>\n",
              "      <td>11</td>\n",
              "      <td>38</td>\n",
              "      <td>0</td>\n",
              "      <td>&lt;bound method PandasDelegate._add_delegate_acc...</td>\n",
              "      <td>2019</td>\n",
              "    </tr>\n",
              "  </tbody>\n",
              "</table>\n",
              "<p>5 rows × 23 columns</p>\n",
              "</div>\n",
              "    <div class=\"colab-df-buttons\">\n",
              "\n",
              "  <div class=\"colab-df-container\">\n",
              "    <button class=\"colab-df-convert\" onclick=\"convertToInteractive('df-f52f1e06-1785-400f-a564-81ced5fddbf7')\"\n",
              "            title=\"Convert this dataframe to an interactive table.\"\n",
              "            style=\"display:none;\">\n",
              "\n",
              "  <svg xmlns=\"http://www.w3.org/2000/svg\" height=\"24px\" viewBox=\"0 -960 960 960\">\n",
              "    <path d=\"M120-120v-720h720v720H120Zm60-500h600v-160H180v160Zm220 220h160v-160H400v160Zm0 220h160v-160H400v160ZM180-400h160v-160H180v160Zm440 0h160v-160H620v160ZM180-180h160v-160H180v160Zm440 0h160v-160H620v160Z\"/>\n",
              "  </svg>\n",
              "    </button>\n",
              "\n",
              "  <style>\n",
              "    .colab-df-container {\n",
              "      display:flex;\n",
              "      gap: 12px;\n",
              "    }\n",
              "\n",
              "    .colab-df-convert {\n",
              "      background-color: #E8F0FE;\n",
              "      border: none;\n",
              "      border-radius: 50%;\n",
              "      cursor: pointer;\n",
              "      display: none;\n",
              "      fill: #1967D2;\n",
              "      height: 32px;\n",
              "      padding: 0 0 0 0;\n",
              "      width: 32px;\n",
              "    }\n",
              "\n",
              "    .colab-df-convert:hover {\n",
              "      background-color: #E2EBFA;\n",
              "      box-shadow: 0px 1px 2px rgba(60, 64, 67, 0.3), 0px 1px 3px 1px rgba(60, 64, 67, 0.15);\n",
              "      fill: #174EA6;\n",
              "    }\n",
              "\n",
              "    .colab-df-buttons div {\n",
              "      margin-bottom: 4px;\n",
              "    }\n",
              "\n",
              "    [theme=dark] .colab-df-convert {\n",
              "      background-color: #3B4455;\n",
              "      fill: #D2E3FC;\n",
              "    }\n",
              "\n",
              "    [theme=dark] .colab-df-convert:hover {\n",
              "      background-color: #434B5C;\n",
              "      box-shadow: 0px 1px 3px 1px rgba(0, 0, 0, 0.15);\n",
              "      filter: drop-shadow(0px 1px 2px rgba(0, 0, 0, 0.3));\n",
              "      fill: #FFFFFF;\n",
              "    }\n",
              "  </style>\n",
              "\n",
              "    <script>\n",
              "      const buttonEl =\n",
              "        document.querySelector('#df-f52f1e06-1785-400f-a564-81ced5fddbf7 button.colab-df-convert');\n",
              "      buttonEl.style.display =\n",
              "        google.colab.kernel.accessAllowed ? 'block' : 'none';\n",
              "\n",
              "      async function convertToInteractive(key) {\n",
              "        const element = document.querySelector('#df-f52f1e06-1785-400f-a564-81ced5fddbf7');\n",
              "        const dataTable =\n",
              "          await google.colab.kernel.invokeFunction('convertToInteractive',\n",
              "                                                    [key], {});\n",
              "        if (!dataTable) return;\n",
              "\n",
              "        const docLinkHtml = 'Like what you see? Visit the ' +\n",
              "          '<a target=\"_blank\" href=https://colab.research.google.com/notebooks/data_table.ipynb>data table notebook</a>'\n",
              "          + ' to learn more about interactive tables.';\n",
              "        element.innerHTML = '';\n",
              "        dataTable['output_type'] = 'display_data';\n",
              "        await google.colab.output.renderOutput(dataTable, element);\n",
              "        const docLink = document.createElement('div');\n",
              "        docLink.innerHTML = docLinkHtml;\n",
              "        element.appendChild(docLink);\n",
              "      }\n",
              "    </script>\n",
              "  </div>\n",
              "\n",
              "\n",
              "<div id=\"df-8778db8c-be2b-4a9d-83de-3993357d01e4\">\n",
              "  <button class=\"colab-df-quickchart\" onclick=\"quickchart('df-8778db8c-be2b-4a9d-83de-3993357d01e4')\"\n",
              "            title=\"Suggest charts\"\n",
              "            style=\"display:none;\">\n",
              "\n",
              "<svg xmlns=\"http://www.w3.org/2000/svg\" height=\"24px\"viewBox=\"0 0 24 24\"\n",
              "     width=\"24px\">\n",
              "    <g>\n",
              "        <path d=\"M19 3H5c-1.1 0-2 .9-2 2v14c0 1.1.9 2 2 2h14c1.1 0 2-.9 2-2V5c0-1.1-.9-2-2-2zM9 17H7v-7h2v7zm4 0h-2V7h2v10zm4 0h-2v-4h2v4z\"/>\n",
              "    </g>\n",
              "</svg>\n",
              "  </button>\n",
              "\n",
              "<style>\n",
              "  .colab-df-quickchart {\n",
              "      --bg-color: #E8F0FE;\n",
              "      --fill-color: #1967D2;\n",
              "      --hover-bg-color: #E2EBFA;\n",
              "      --hover-fill-color: #174EA6;\n",
              "      --disabled-fill-color: #AAA;\n",
              "      --disabled-bg-color: #DDD;\n",
              "  }\n",
              "\n",
              "  [theme=dark] .colab-df-quickchart {\n",
              "      --bg-color: #3B4455;\n",
              "      --fill-color: #D2E3FC;\n",
              "      --hover-bg-color: #434B5C;\n",
              "      --hover-fill-color: #FFFFFF;\n",
              "      --disabled-bg-color: #3B4455;\n",
              "      --disabled-fill-color: #666;\n",
              "  }\n",
              "\n",
              "  .colab-df-quickchart {\n",
              "    background-color: var(--bg-color);\n",
              "    border: none;\n",
              "    border-radius: 50%;\n",
              "    cursor: pointer;\n",
              "    display: none;\n",
              "    fill: var(--fill-color);\n",
              "    height: 32px;\n",
              "    padding: 0;\n",
              "    width: 32px;\n",
              "  }\n",
              "\n",
              "  .colab-df-quickchart:hover {\n",
              "    background-color: var(--hover-bg-color);\n",
              "    box-shadow: 0 1px 2px rgba(60, 64, 67, 0.3), 0 1px 3px 1px rgba(60, 64, 67, 0.15);\n",
              "    fill: var(--button-hover-fill-color);\n",
              "  }\n",
              "\n",
              "  .colab-df-quickchart-complete:disabled,\n",
              "  .colab-df-quickchart-complete:disabled:hover {\n",
              "    background-color: var(--disabled-bg-color);\n",
              "    fill: var(--disabled-fill-color);\n",
              "    box-shadow: none;\n",
              "  }\n",
              "\n",
              "  .colab-df-spinner {\n",
              "    border: 2px solid var(--fill-color);\n",
              "    border-color: transparent;\n",
              "    border-bottom-color: var(--fill-color);\n",
              "    animation:\n",
              "      spin 1s steps(1) infinite;\n",
              "  }\n",
              "\n",
              "  @keyframes spin {\n",
              "    0% {\n",
              "      border-color: transparent;\n",
              "      border-bottom-color: var(--fill-color);\n",
              "      border-left-color: var(--fill-color);\n",
              "    }\n",
              "    20% {\n",
              "      border-color: transparent;\n",
              "      border-left-color: var(--fill-color);\n",
              "      border-top-color: var(--fill-color);\n",
              "    }\n",
              "    30% {\n",
              "      border-color: transparent;\n",
              "      border-left-color: var(--fill-color);\n",
              "      border-top-color: var(--fill-color);\n",
              "      border-right-color: var(--fill-color);\n",
              "    }\n",
              "    40% {\n",
              "      border-color: transparent;\n",
              "      border-right-color: var(--fill-color);\n",
              "      border-top-color: var(--fill-color);\n",
              "    }\n",
              "    60% {\n",
              "      border-color: transparent;\n",
              "      border-right-color: var(--fill-color);\n",
              "    }\n",
              "    80% {\n",
              "      border-color: transparent;\n",
              "      border-right-color: var(--fill-color);\n",
              "      border-bottom-color: var(--fill-color);\n",
              "    }\n",
              "    90% {\n",
              "      border-color: transparent;\n",
              "      border-bottom-color: var(--fill-color);\n",
              "    }\n",
              "  }\n",
              "</style>\n",
              "\n",
              "  <script>\n",
              "    async function quickchart(key) {\n",
              "      const quickchartButtonEl =\n",
              "        document.querySelector('#' + key + ' button');\n",
              "      quickchartButtonEl.disabled = true;  // To prevent multiple clicks.\n",
              "      quickchartButtonEl.classList.add('colab-df-spinner');\n",
              "      try {\n",
              "        const charts = await google.colab.kernel.invokeFunction(\n",
              "            'suggestCharts', [key], {});\n",
              "      } catch (error) {\n",
              "        console.error('Error during call to suggestCharts:', error);\n",
              "      }\n",
              "      quickchartButtonEl.classList.remove('colab-df-spinner');\n",
              "      quickchartButtonEl.classList.add('colab-df-quickchart-complete');\n",
              "    }\n",
              "    (() => {\n",
              "      let quickchartButtonEl =\n",
              "        document.querySelector('#df-8778db8c-be2b-4a9d-83de-3993357d01e4 button');\n",
              "      quickchartButtonEl.style.display =\n",
              "        google.colab.kernel.accessAllowed ? 'block' : 'none';\n",
              "    })();\n",
              "  </script>\n",
              "</div>\n",
              "\n",
              "    </div>\n",
              "  </div>\n"
            ],
            "application/vnd.google.colaboratory.intrinsic+json": {
              "type": "dataframe",
              "variable_name": "df"
            }
          },
          "metadata": {},
          "execution_count": 74
        },
        {
          "output_type": "stream",
          "name": "stdout",
          "text": [
            "Warning: Total number of columns (23) exceeds max_columns (20) limiting to first (20) columns.\n"
          ]
        }
      ]
    },
    {
      "metadata": {
        "id": "VYY9dcEV7SN4"
      },
      "cell_type": "markdown",
      "source": [
        "# Conclusion\n",
        "\n",
        "We went through a simple workflow for preprocessing the dataset, then encoding and splitting it into training and test set. We then tested 3 different algorithms, i.e. a Linear Regression, an SVM, and Gradient Boosting. We can observe that gradient boosting, in this case, is not only faster, but significantly more accurate."
      ]
    }
  ],
  "metadata": {
    "language_info": {
      "name": "python",
      "version": "3.6.6",
      "mimetype": "text/x-python",
      "codemirror_mode": {
        "name": "ipython",
        "version": 3
      },
      "pygments_lexer": "ipython3",
      "nbconvert_exporter": "python",
      "file_extension": ".py"
    },
    "kernelspec": {
      "display_name": "Python 3",
      "language": "python",
      "name": "python3"
    },
    "colab": {
      "name": "Ticket Price Prediction with scikit-learn",
      "provenance": []
    }
  },
  "nbformat": 4,
  "nbformat_minor": 0
}